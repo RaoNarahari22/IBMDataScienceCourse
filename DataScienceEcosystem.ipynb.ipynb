{
 "cells": [
  {
   "cell_type": "markdown",
   "id": "5dded070-262c-44c2-8ac3-3534672d7390",
   "metadata": {
    "tags": []
   },
   "source": [
    "# Data Science Tools and Ecosystem"
   ]
  },
  {
   "cell_type": "markdown",
   "id": "48a25494-42e5-470e-8ecb-9ecfe2b5bdd4",
   "metadata": {},
   "source": [
    "# Data Science Tools and Ecosystem"
   ]
  },
  {
   "cell_type": "markdown",
   "id": "9a4bce80-727f-4937-a989-629f93ad5386",
   "metadata": {},
   "source": [
    "In this notebook, Data Science Tools and Ecosystem are summarized."
   ]
  },
  {
   "cell_type": "markdown",
   "id": "89fd92f5-298c-4284-a2a7-cb74a681b5ee",
   "metadata": {},
   "source": [
    "In this notebook, Data Science Tools and Ecosystem are summarized."
   ]
  },
  {
   "cell_type": "markdown",
   "id": "8ce10bce-c37b-4dda-81a5-ef5232f06880",
   "metadata": {},
   "source": [
    "**Objectives:**\n",
    "* Listing languages data scientists use.\n",
    "* Listing libraries data scientists use.\n",
    "* Listing tools data scientists use.\n",
    "* Calculate arithmetic operations\n",
    "* Formatting markdown cells to headings, bold, etc."
   ]
  },
  {
   "cell_type": "markdown",
   "id": "aa3c0aa2-2023-44c4-9788-215108e3a64f",
   "metadata": {},
   "source": [
    "Some of the popular languages that Data Scientists use are:\n",
    "1. Python\n",
    "2. R\n",
    "3. Scala\n",
    "4. Java\n",
    "5. SQL"
   ]
  },
  {
   "cell_type": "markdown",
   "id": "c9e62188-2622-46b6-a65c-bc30a669ead5",
   "metadata": {},
   "source": [
    "Some of the commonly used libraries used by Data Scientists include:\n",
    "1. Pandas\n",
    "1. Matpotlib\n",
    "1. SciKit\n",
    "1. Numpy\n",
    "1. Tensorfow"
   ]
  },
  {
   "cell_type": "markdown",
   "id": "e7c89dcf-b3f6-4669-ab74-3ca44afd9063",
   "metadata": {},
   "source": [
    "| Data Science Tools |\n",
    "| --- |\n",
    "| RStudio |\n",
    "| PyCharm |\n",
    "| Apache Spark |\n"
   ]
  },
  {
   "cell_type": "markdown",
   "id": "a8245b75-197f-4086-ad24-16938b4a5ff0",
   "metadata": {},
   "source": [
    "### Below are a few examples of evaluating arithmetic expressions in Python"
   ]
  },
  {
   "cell_type": "code",
   "execution_count": 2,
   "id": "1aa31523-13fc-4026-a1ea-d32ed0884e15",
   "metadata": {
    "tags": []
   },
   "outputs": [
    {
     "data": {
      "text/plain": [
       "17"
      ]
     },
     "execution_count": 2,
     "metadata": {},
     "output_type": "execute_result"
    }
   ],
   "source": [
    "# This a simple arithmetic expression to mutiply then add integers\n",
    "(3*4)+5"
   ]
  },
  {
   "cell_type": "code",
   "execution_count": 3,
   "id": "cbdec9f7-61a6-480c-bd85-b181307950e8",
   "metadata": {
    "tags": []
   },
   "outputs": [
    {
     "data": {
      "text/plain": [
       "3.3333333333333335"
      ]
     },
     "execution_count": 3,
     "metadata": {},
     "output_type": "execute_result"
    }
   ],
   "source": [
    "# This will convert 200 minutes to hours by diving by 60\n",
    "(200/60)"
   ]
  },
  {
   "cell_type": "markdown",
   "id": "9ca2e107-3720-4c3c-ba4f-63551abc2edb",
   "metadata": {},
   "source": [
    "## Author\n",
    "J Narahari Rao"
   ]
  },
  {
   "cell_type": "code",
   "execution_count": null,
   "id": "5fbf7890-9e2a-4b95-9660-46912afc0884",
   "metadata": {},
   "outputs": [],
   "source": []
  }
 ],
 "metadata": {
  "kernelspec": {
   "display_name": "Python 3 (ipykernel)",
   "language": "python",
   "name": "python3"
  },
  "language_info": {
   "codemirror_mode": {
    "name": "ipython",
    "version": 3
   },
   "file_extension": ".py",
   "mimetype": "text/x-python",
   "name": "python",
   "nbconvert_exporter": "python",
   "pygments_lexer": "ipython3",
   "version": "3.11.4"
  }
 },
 "nbformat": 4,
 "nbformat_minor": 5
}
