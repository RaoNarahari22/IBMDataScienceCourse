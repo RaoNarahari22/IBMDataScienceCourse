{
 "cells": [
  {
   "cell_type": "markdown",
   "metadata": {},
   "source": [
    "<center>\n",
    "    <img src=\"https://cf-courses-data.s3.us.cloud-object-storage.appdomain.cloud/IBMDeveloperSkillsNetwork-DS0105EN-SkillsNetwork/labs/Module2/images/SN_web_lightmode.png\" width=\"300\" alt=\"cognitiveclass.ai logo\">\n",
    "</center>\n"
   ]
  },
  {
   "cell_type": "markdown",
   "metadata": {},
   "source": [
    "#### Add your code below following the instructions given in the course\n"
   ]
  },
  {
   "cell_type": "markdown",
   "metadata": {},
   "source": [
    "## Jupyter_Notebook"
   ]
  },
  {
   "cell_type": "markdown",
   "metadata": {},
   "source": [
    "This course teaches a lot about the various tools used in the field of data science. It also helps us give an understanding of how the tools work and how we can use it either in our local system or cloud.  One of its main features are the labs which gives good practice and better remebrance."
   ]
  },
  {
   "cell_type": "markdown",
   "metadata": {},
   "source": [
    "The different data science languages are:\n",
    "1. Python\n",
    "1. R\n",
    "1. Scala\n",
    "1. SQL\n",
    "1. Java\n",
    "1. Julia\n",
    "1. Matlab"
   ]
  },
  {
   "cell_type": "markdown",
   "metadata": {},
   "source": [
    "The various data science libraries are - \n",
    "* pandas\n",
    "* scikit-learn\n",
    "* numpy\n",
    "* pytorch\n",
    "* tensorflow\n",
    "* matplotlib\n",
    "* caret\n",
    "* ggplot"
   ]
  },
  {
   "cell_type": "markdown",
   "metadata": {},
   "source": [
    "| Data Science Tools |\n",
    "| --- |\n",
    "| TensorFlow |\n",
    "| ApacheSpark |\n",
    "| SAS |\n",
    "| Hadoop |\n",
    "| MongoDB |\n",
    "| Tableau |\n",
    "| KNIME |"
   ]
  },
  {
   "cell_type": "markdown",
   "metadata": {},
   "source": [
    "#### The following code snippets will explain use and execution of arithmetic expression by examples:"
   ]
  },
  {
   "cell_type": "code",
   "execution_count": 6,
   "metadata": {
    "tags": []
   },
   "outputs": [
    {
     "name": "stdout",
     "output_type": "stream",
     "text": [
      "Multiplied value of a and b: c =  35\n",
      "Added value of x and y: z =  13\n"
     ]
    }
   ],
   "source": [
    "# Example to multiply numbers:\n",
    "a = 5\n",
    "b = 7\n",
    "c = a * b\n",
    "print(\"Multiplied value of a and b: c = \", c)\n",
    "\n",
    "# Example to add numbers:\n",
    "x = 4\n",
    "y = 9\n",
    "z = x + y\n",
    "print(\"Added value of x and y: z = \", z)"
   ]
  },
  {
   "cell_type": "code",
   "execution_count": 7,
   "metadata": {
    "tags": []
   },
   "outputs": [
    {
     "name": "stdout",
     "output_type": "stream",
     "text": [
      "3.72\n"
     ]
    }
   ],
   "source": [
    "# Example to convert minutes to hours:\n",
    "minutes = 223\n",
    "hours = round((minutes/60), 2)\n",
    "print(hours)"
   ]
  },
  {
   "cell_type": "markdown",
   "metadata": {},
   "source": [
    "## Objectives:\n",
    "* Understand the various tools being used in datascience and in which languages they can be used in.\n",
    "* Understand the purpose of the tools and libraries being used in data science.\n",
    "* Download and install packages/tools or access the tools online.\n",
    "* Work on the tools by creating different projects.\n",
    "* Learn to use Jupyter notebook by using different formatting options in markdown cells and run arithmetic expressions in the code cells.\n",
    "* Learn the working of R and Github."
   ]
  },
  {
   "cell_type": "markdown",
   "metadata": {},
   "source": [
    "## Author:\n",
    "#### J Narahari Rao"
   ]
  },
  {
   "cell_type": "code",
   "execution_count": null,
   "metadata": {},
   "outputs": [],
   "source": []
  }
 ],
 "metadata": {
  "kernelspec": {
   "display_name": "Python",
   "language": "python",
   "name": "conda-env-python-py"
  },
  "language_info": {
   "codemirror_mode": {
    "name": "ipython",
    "version": 3
   },
   "file_extension": ".py",
   "mimetype": "text/x-python",
   "name": "python",
   "nbconvert_exporter": "python",
   "pygments_lexer": "ipython3",
   "version": "3.7.12"
  }
 },
 "nbformat": 4,
 "nbformat_minor": 4
}
